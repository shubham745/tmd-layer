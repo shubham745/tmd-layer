{
 "cells": [
  {
   "cell_type": "code",
   "execution_count": 6,
   "id": "951e7935",
   "metadata": {},
   "outputs": [
    {
     "name": "stdout",
     "output_type": "stream",
     "text": [
      "torch.Size([1, 100, 784])\n"
     ]
    }
   ],
   "source": [
    "import torch\n",
    "from tmd_layer import TMDLayer\n",
    "\n",
    "tmd_layer = TMDLayer(\n",
    "    in_features = 28*28, # input feature dimension(d)\n",
    "    L_latent = 16,       # latent dimension of tmd layer\n",
    "    epsilon = 0.25       # epsilon(hyperparameter)\n",
    ")\n",
    "\n",
    "\n",
    "x = torch.randn(1, 100, 28*28) # [b,n,d] \n",
    "\n",
    "x = tmd_layer(x)"
   ]
  },
  {
   "cell_type": "code",
   "execution_count": 7,
   "id": "b3491fb5",
   "metadata": {},
   "outputs": [
    {
     "data": {
      "text/plain": [
       "tensor([[[-2.1396, -2.1509,  0.2914,  ...,  1.6073, -0.7996, -1.0042],\n",
       "         [ 1.5331, -0.2798,  0.3419,  ..., -2.5228,  1.4624, -0.5786],\n",
       "         [-0.3107, -0.2092,  2.2619,  ..., -0.8317,  1.4195,  0.6532],\n",
       "         ...,\n",
       "         [-0.1322,  1.1339, -2.4269,  ...,  2.5461,  1.1265, -1.5158],\n",
       "         [ 0.4083,  0.4571,  1.4270,  ..., -0.6046,  0.0211,  2.1527],\n",
       "         [-1.9936,  0.3291,  0.5037,  ...,  0.4707,  2.2084,  0.6782]]],\n",
       "       grad_fn=<AddBackward0>)"
      ]
     },
     "execution_count": 7,
     "metadata": {},
     "output_type": "execute_result"
    }
   ],
   "source": [
    "x"
   ]
  }
 ],
 "metadata": {
  "kernelspec": {
   "display_name": "Python 3",
   "language": "python",
   "name": "python3"
  },
  "language_info": {
   "codemirror_mode": {
    "name": "ipython",
    "version": 3
   },
   "file_extension": ".py",
   "mimetype": "text/x-python",
   "name": "python",
   "nbconvert_exporter": "python",
   "pygments_lexer": "ipython3",
   "version": "3.9.5"
  }
 },
 "nbformat": 4,
 "nbformat_minor": 5
}
